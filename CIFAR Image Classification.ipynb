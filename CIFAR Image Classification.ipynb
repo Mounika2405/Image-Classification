{
 "cells": [
  {
   "cell_type": "markdown",
   "metadata": {},
   "source": [
    "## CNN to classify CIFAR-10 images"
   ]
  },
  {
   "cell_type": "code",
   "execution_count": 4,
   "metadata": {
    "collapsed": true
   },
   "outputs": [],
   "source": [
    "import os\n",
    "os.chdir(\"C:/Users/Mounika/Documents/monica work/INSOFE/ai and ds/CNN/cnn/cnn/cifar_cnn\")"
   ]
  },
  {
   "cell_type": "code",
   "execution_count": 5,
   "metadata": {},
   "outputs": [
    {
     "name": "stdout",
     "output_type": "stream",
     "text": [
      "['data', 'labels']\n",
      "Shape of train data (50000, 32, 32, 3)\n",
      "Shape of train labels (50000, 1)\n",
      "['data', 'labels']\n",
      "Shape of test data (10000, 32, 32, 3)\n",
      "Shape of test labels (10000, 1)\n"
     ]
    }
   ],
   "source": [
    "#Loading train and test data\n",
    "\n",
    "import numpy as np\n",
    "\n",
    "train = np.load('cifar_train.npz')\n",
    "print(train.keys())\n",
    "train_data = train['data']\n",
    "train_labels = train['labels']\n",
    "print('Shape of train data',train_data.shape)\n",
    "print('Shape of train labels',train_labels.shape)\n",
    "\n",
    "test  = np.load('cifar_test.npz')\n",
    "print(test.keys())\n",
    "test_data = test['data']\n",
    "test_labels = test['labels']\n",
    "print('Shape of test data',test_data.shape)\n",
    "print('Shape of test labels',test_labels.shape)\n"
   ]
  },
  {
   "cell_type": "code",
   "execution_count": 8,
   "metadata": {},
   "outputs": [
    {
     "data": {
      "text/plain": [
       "array([[3],\n",
       "       [8],\n",
       "       [8],\n",
       "       ...,\n",
       "       [5],\n",
       "       [1],\n",
       "       [7]])"
      ]
     },
     "execution_count": 8,
     "metadata": {},
     "output_type": "execute_result"
    }
   ],
   "source": [
    "(test_labels)"
   ]
  },
  {
   "cell_type": "code",
   "execution_count": 69,
   "metadata": {},
   "outputs": [
    {
     "data": {
      "image/png": "[encoded data removed]",
      "text/plain": [
       "<matplotlib.figure.Figure at 0x1b3134059b0>"
      ]
     },
     "metadata": {},
     "output_type": "display_data"
    },
    {
     "data": {
      "image/png": "[encoded data removed]",
      "text/plain": [
       "<matplotlib.figure.Figure at 0x1b304726668>"
      ]
     },
     "metadata": {},
     "output_type": "display_data"
    }
   ],
   "source": [
    "#Visualising train images\n",
    "\n",
    "import matplotlib.pyplot as plt\n",
    "\n",
    "plt.subplot(1,2,1)\n",
    "plt.imshow(train_data[0])\n",
    "plt.show()\n",
    "plt.imshow(train_data[1])\n",
    "plt.show()"
   ]
  },
  {
   "cell_type": "markdown",
   "metadata": {},
   "source": [
    "\n",
    "### Training a CNN for classification"
   ]
  },
  {
   "cell_type": "code",
   "execution_count": 70,
   "metadata": {
    "collapsed": true
   },
   "outputs": [],
   "source": [
    "#Finding the number of classes of target variable\n",
    "nb_classes = len(np.unique(train_labels))\n",
    "\n",
    "#Converting class vectors to binary class matrices\n",
    "\n",
    "\n",
    "from keras.utils import to_categorical\n",
    "\n",
    "train_labels = to_categorical(train_labels,nb_classes)\n",
    "test_labels  = to_categorical(test_labels,nb_classes)\n"
   ]
  },
  {
   "cell_type": "code",
   "execution_count": 71,
   "metadata": {
    "collapsed": true
   },
   "outputs": [],
   "source": [
    "#Importing libraries to build convolutional neural network.\n",
    "\n",
    "from keras import Sequential\n",
    "from keras.layers import Convolution2D,MaxPooling2D\n",
    "from keras.layers import Dense,Dropout,Flatten"
   ]
  },
  {
   "cell_type": "code",
   "execution_count": 72,
   "metadata": {
    "collapsed": true
   },
   "outputs": [],
   "source": [
    "img_rows,img_cols=32,32\n",
    "img_channels=3\n",
    "model = Sequential()\n",
    "model.add(Convolution2D(filters=32,kernel_size = (3,3),strides = 1,padding = 'same',activation = 'relu',\n",
    "                       input_shape=(img_rows,img_cols,img_channels)))\n",
    "model.add(Convolution2D(filters = 32,kernel_size=(3,3),activation = 'relu'))\n",
    "model.add(MaxPooling2D(pool_size = (2,2)))\n",
    "model.add(Dropout(0.25))\n",
    "\n",
    "model.add(Convolution2D(filters=64,kernel_size = (3,3),strides = 1,padding = 'same',activation = 'relu'))\n",
    "model.add(Convolution2D(filters = 64,kernel_size=(3,3),activation = 'relu'))\n",
    "model.add(MaxPooling2D(pool_size = (2,2)))\n",
    "model.add(Dropout(0.25))\n",
    "\n",
    "model.add(Flatten())\n",
    "model.add(Dense(512,activation='relu'))\n",
    "model.add(Dropout(0.5))\n",
    "model.add(Dense(nb_classes,activation='softmax'))\n"
   ]
  },
  {
   "cell_type": "code",
   "execution_count": 73,
   "metadata": {
    "collapsed": true
   },
   "outputs": [],
   "source": [
    "model.compile(loss='categorical_crossentropy',optimizer='adam',metrics=['accuracy'])\n"
   ]
  },
  {
   "cell_type": "code",
   "execution_count": 74,
   "metadata": {
    "collapsed": true
   },
   "outputs": [],
   "source": [
    "train_data = train_data.astype('float32')\n",
    "test_data = test_data.astype('float32')\n",
    "train_data /=255\n",
    "test_data /= 255\n"
   ]
  },
  {
   "cell_type": "code",
   "execution_count": 75,
   "metadata": {
    "collapsed": true
   },
   "outputs": [],
   "source": [
    "batch_size = 32\n",
    "nb_epoch = 25"
   ]
  },
  {
   "cell_type": "code",
   "execution_count": 77,
   "metadata": {},
   "outputs": [
    {
     "name": "stdout",
     "output_type": "stream",
     "text": [
      "Train on 5000 samples, validate on 5000 samples\n",
      "Epoch 1/25\n",
      "5000/5000 [==============================] - 100s 20ms/step - loss: 2.0856 - acc: 0.2262 - val_loss: 1.7923 - val_acc: 0.3750\n",
      "Epoch 2/25\n",
      "5000/5000 [==============================] - 92s 18ms/step - loss: 1.7238 - acc: 0.3684 - val_loss: 1.5689 - val_acc: 0.4474\n",
      "Epoch 3/25\n",
      "5000/5000 [==============================] - 93s 19ms/step - loss: 1.5414 - acc: 0.4458 - val_loss: 1.4729 - val_acc: 0.4718\n",
      "Epoch 4/25\n",
      "5000/5000 [==============================] - 93s 19ms/step - loss: 1.4266 - acc: 0.4876 - val_loss: 1.4447 - val_acc: 0.4918\n",
      "Epoch 5/25\n",
      "5000/5000 [==============================] - 94s 19ms/step - loss: 1.3240 - acc: 0.5256 - val_loss: 1.4383 - val_acc: 0.4900\n",
      "Epoch 6/25\n",
      "5000/5000 [==============================] - 95s 19ms/step - loss: 1.2258 - acc: 0.5644 - val_loss: 1.2954 - val_acc: 0.5350\n",
      "Epoch 7/25\n",
      "5000/5000 [==============================] - 93s 19ms/step - loss: 1.1342 - acc: 0.5944 - val_loss: 1.2747 - val_acc: 0.5496\n",
      "Epoch 8/25\n",
      "5000/5000 [==============================] - 92s 18ms/step - loss: 1.0668 - acc: 0.6184 - val_loss: 1.2357 - val_acc: 0.5670\n",
      "Epoch 9/25\n",
      "5000/5000 [==============================] - 94s 19ms/step - loss: 0.9715 - acc: 0.6532 - val_loss: 1.2461 - val_acc: 0.5734\n",
      "Epoch 10/25\n",
      "5000/5000 [==============================] - 92s 18ms/step - loss: 0.8801 - acc: 0.6882 - val_loss: 1.2845 - val_acc: 0.5684\n",
      "Epoch 11/25\n",
      "5000/5000 [==============================] - 93s 19ms/step - loss: 0.8080 - acc: 0.7078 - val_loss: 1.2020 - val_acc: 0.5898\n",
      "Epoch 12/25\n",
      "5000/5000 [==============================] - 92s 18ms/step - loss: 0.7194 - acc: 0.7442 - val_loss: 1.2863 - val_acc: 0.5860\n",
      "Epoch 13/25\n",
      "5000/5000 [==============================] - 91s 18ms/step - loss: 0.6546 - acc: 0.7636 - val_loss: 1.3017 - val_acc: 0.5768\n",
      "Epoch 14/25\n",
      "5000/5000 [==============================] - 90s 18ms/step - loss: 0.6088 - acc: 0.7816 - val_loss: 1.3595 - val_acc: 0.5830\n",
      "Epoch 15/25\n",
      "5000/5000 [==============================] - 90s 18ms/step - loss: 0.5180 - acc: 0.8164 - val_loss: 1.4312 - val_acc: 0.5782\n",
      "Epoch 16/25\n",
      "5000/5000 [==============================] - 90s 18ms/step - loss: 0.4852 - acc: 0.8308 - val_loss: 1.4970 - val_acc: 0.5798\n",
      "Epoch 17/25\n",
      "5000/5000 [==============================] - 91s 18ms/step - loss: 0.4495 - acc: 0.8428 - val_loss: 1.4077 - val_acc: 0.5974\n",
      "Epoch 18/25\n",
      "5000/5000 [==============================] - 90s 18ms/step - loss: 0.3999 - acc: 0.8626 - val_loss: 1.4725 - val_acc: 0.6002\n",
      "Epoch 19/25\n",
      "5000/5000 [==============================] - 91s 18ms/step - loss: 0.3610 - acc: 0.8702 - val_loss: 1.5559 - val_acc: 0.5914\n",
      "Epoch 20/25\n",
      "5000/5000 [==============================] - 957s 191ms/step - loss: 0.3609 - acc: 0.8730 - val_loss: 1.6428 - val_acc: 0.5906\n",
      "Epoch 21/25\n",
      "5000/5000 [==============================] - 92s 18ms/step - loss: 0.3167 - acc: 0.8864 - val_loss: 1.6004 - val_acc: 0.5964\n",
      "Epoch 22/25\n",
      "5000/5000 [==============================] - 91s 18ms/step - loss: 0.3303 - acc: 0.8854 - val_loss: 1.6211 - val_acc: 0.5866\n",
      "Epoch 23/25\n",
      "5000/5000 [==============================] - 91s 18ms/step - loss: 0.2863 - acc: 0.9028 - val_loss: 1.6879 - val_acc: 0.5772\n",
      "Epoch 24/25\n",
      "5000/5000 [==============================] - 89s 18ms/step - loss: 0.2870 - acc: 0.9032 - val_loss: 1.5469 - val_acc: 0.6064\n",
      "Epoch 25/25\n",
      "5000/5000 [==============================] - 92s 18ms/step - loss: 0.2496 - acc: 0.9128 - val_loss: 1.6948 - val_acc: 0.6028\n"
     ]
    },
    {
     "data": {
      "text/plain": [
       "<keras.callbacks.History at 0x1b30f230cf8>"
      ]
     },
     "execution_count": 77,
     "metadata": {},
     "output_type": "execute_result"
    }
   ],
   "source": [
    "model.fit(train_data[:5000],train_labels[:5000],\n",
    "         batch_size = batch_size,epochs = nb_epoch,\n",
    "         validation_data=(test_data[:5000],test_labels[:5000]),\n",
    "         shuffle = True)"
   ]
  },
  {
   "cell_type": "code",
   "execution_count": 78,
   "metadata": {},
   "outputs": [
    {
     "name": "stdout",
     "output_type": "stream",
     "text": [
      "_________________________________________________________________\n",
      "Layer (type)                 Output Shape              Param #   \n",
      "=================================================================\n",
      "conv2d_19 (Conv2D)           (None, 32, 32, 32)        896       \n",
      "_________________________________________________________________\n",
      "conv2d_20 (Conv2D)           (None, 30, 30, 32)        9248      \n",
      "_________________________________________________________________\n",
      "max_pooling2d_10 (MaxPooling (None, 15, 15, 32)        0         \n",
      "_________________________________________________________________\n",
      "dropout_10 (Dropout)         (None, 15, 15, 32)        0         \n",
      "_________________________________________________________________\n",
      "conv2d_21 (Conv2D)           (None, 15, 15, 64)        18496     \n",
      "_________________________________________________________________\n",
      "conv2d_22 (Conv2D)           (None, 13, 13, 64)        36928     \n",
      "_________________________________________________________________\n",
      "max_pooling2d_11 (MaxPooling (None, 6, 6, 64)          0         \n",
      "_________________________________________________________________\n",
      "dropout_11 (Dropout)         (None, 6, 6, 64)          0         \n",
      "_________________________________________________________________\n",
      "flatten_3 (Flatten)          (None, 2304)              0         \n",
      "_________________________________________________________________\n",
      "dense_4 (Dense)              (None, 512)               1180160   \n",
      "_________________________________________________________________\n",
      "dropout_12 (Dropout)         (None, 512)               0         \n",
      "_________________________________________________________________\n",
      "dense_5 (Dense)              (None, 10)                5130      \n",
      "=================================================================\n",
      "Total params: 1,250,858\n",
      "Trainable params: 1,250,858\n",
      "Non-trainable params: 0\n",
      "_________________________________________________________________\n"
     ]
    }
   ],
   "source": [
    "model.summary()"
   ]
  },
  {
   "cell_type": "code",
   "execution_count": null,
   "metadata": {
    "collapsed": true
   },
   "outputs": [],
   "source": []
  }
 ],
 "metadata": {
  "kernelspec": {
   "display_name": "Python 3",
   "language": "python",
   "name": "python3"
  },
  "language_info": {
   "codemirror_mode": {
    "name": "ipython",
    "version": 3
   },
   "file_extension": ".py",
   "mimetype": "text/x-python",
   "name": "python",
   "nbconvert_exporter": "python",
   "pygments_lexer": "ipython3",
   "version": "3.6.1"
  }
 },
 "nbformat": 4,
 "nbformat_minor": 2
}
