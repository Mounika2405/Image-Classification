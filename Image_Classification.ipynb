{
 "cells": [
  {
   "cell_type": "markdown",
   "metadata": {},
   "source": [
    "## IMAGE CLASSIFICATION"
   ]
  },
  {
   "cell_type": "markdown",
   "metadata": {},
   "source": [
    "The train data consists of 20000 images, belonging to 10 different classes. The task is to train a convolutional neural net in keras for this multi-class classification. The purpose here is to get familiar with image data format, working with images, building the training dataset, Convolutional Architectures, Keras API & hyper parameters and their tuning."
   ]
  },
  {
   "cell_type": "code",
   "execution_count": 1,
   "metadata": {
    "collapsed": true
   },
   "outputs": [],
   "source": [
    "#Setting the working directory\n",
    "\n",
    "import os \n",
    "\n",
    "location = os.chdir(\"C:/Users/Mounika/Documents/monica work/INSOFE/CUTE04/20180203_Batch_33_CSE_7321c_CUTe\")\n"
   ]
  },
  {
   "cell_type": "code",
   "execution_count": 2,
   "metadata": {},
   "outputs": [
    {
     "name": "stdout",
     "output_type": "stream",
     "text": [
      "train keys ['labels', 'data']\n",
      "['row_id', 'labels', 'data']\n"
     ]
    }
   ],
   "source": [
    "#Loading train and test data\n",
    "\n",
    "import numpy as np\n",
    "\n",
    "train = np.load(\"train.npz\")      #The .npz file format is a zipped archive of files named after the variables they contain. \n",
    "print('train keys',train.keys())  #np.load returns a dictionary-like object which can be queried for its list of arrays.\n",
    "train_data = train['data']\n",
    "train_labels = train['labels']\n",
    "\n",
    "test = np.load(\"test_with_labels.npz\")\n",
    "print(test.keys())\n",
    "test_data = test['data']\n",
    "test_labels = test['labels']"
   ]
  },
  {
   "cell_type": "code",
   "execution_count": 3,
   "metadata": {},
   "outputs": [
    {
     "data": {
      "text/plain": [
       "<matplotlib.image.AxesImage at 0x210e642e080>"
      ]
     },
     "execution_count": 3,
     "metadata": {},
     "output_type": "execute_result"
    },
    {
     "data": {
      "image/png": "[encoded data removed]",
      "text/plain": [
       "<matplotlib.figure.Figure at 0x210e425ec50>"
      ]
     },
     "metadata": {},
     "output_type": "display_data"
    }
   ],
   "source": [
    "#Visualizing the data\n",
    "import matplotlib.pyplot as plt\n",
    "%matplotlib inline\n",
    "\n",
    "plt.subplot(2,2,1)\n",
    "plt.imshow(train_data[1])\n",
    "\n",
    "plt.subplot(2,2,2)\n",
    "plt.imshow(train_data[5])\n",
    "\n",
    "plt.subplot(2,2,3)\n",
    "plt.imshow(test_data[10])\n",
    "\n",
    "plt.subplot(2,2,4)\n",
    "plt.imshow(test_data[15])"
   ]
  },
  {
   "cell_type": "markdown",
   "metadata": {},
   "source": [
    "## Preprocessing the data\n"
   ]
  },
  {
   "cell_type": "code",
   "execution_count": 8,
   "metadata": {},
   "outputs": [
    {
     "data": {
      "text/plain": [
       "0"
      ]
     },
     "execution_count": 8,
     "metadata": {},
     "output_type": "execute_result"
    }
   ],
   "source": [
    "#Checking for missing values\n",
    "\n",
    "import pandas as pd\n",
    "\n",
    "pd.isna(train_data).sum()"
   ]
  },
  {
   "cell_type": "code",
   "execution_count": 10,
   "metadata": {},
   "outputs": [
    {
     "name": "stderr",
     "output_type": "stream",
     "text": [
      "C:\\Users\\Mounika\\Anaconda3\\lib\\site-packages\\h5py\\__init__.py:34: FutureWarning: Conversion of the second argument of issubdtype from `float` to `np.floating` is deprecated. In future, it will be treated as `np.float64 == np.dtype(float).type`.\n",
      "  from ._conv import register_converters as _register_converters\n",
      "Using TensorFlow backend.\n"
     ]
    }
   ],
   "source": [
    "#Converting the labels to categorical\n",
    "from keras.utils import to_categorical\n",
    "\n",
    "nb_classes = len(np.unique(train_labels)) #Calculating the number of labels\n",
    "\n",
    "target_train = to_categorical(train_labels,nb_classes)\n",
    "target_test = to_categorical(test_labels,nb_classes)"
   ]
  },
  {
   "cell_type": "code",
   "execution_count": 12,
   "metadata": {
    "collapsed": true
   },
   "outputs": [],
   "source": [
    "#Preparing the data\n",
    "\n",
    "train_data = train_data.astype('float32')\n",
    "test_data = test_data.astype('float32')"
   ]
  },
  {
   "cell_type": "code",
   "execution_count": 13,
   "metadata": {},
   "outputs": [
    {
     "name": "stdout",
     "output_type": "stream",
     "text": [
      "(20000, 28, 28)\n",
      "(20000,)\n"
     ]
    }
   ],
   "source": [
    "#Checking the shape of data\n",
    "\n",
    "print(train_data.shape)\n",
    "print(train_labels.shape)"
   ]
  },
  {
   "cell_type": "code",
   "execution_count": 14,
   "metadata": {
    "collapsed": true
   },
   "outputs": [],
   "source": [
    "img_rows,img_cols=28,28\n",
    "img_channels = 1"
   ]
  },
  {
   "cell_type": "code",
   "execution_count": 15,
   "metadata": {
    "collapsed": true
   },
   "outputs": [],
   "source": [
    "#Reshaping the input data\n",
    "\n",
    "train_data = np.reshape(train_data,(train_data.shape[0],img_rows,img_cols,img_channels))\n",
    "test_data = np.reshape(test_data,(test_data.shape[0],img_rows,img_cols,img_channels))"
   ]
  },
  {
   "cell_type": "markdown",
   "metadata": {},
   "source": [
    "## Model Building"
   ]
  },
  {
   "cell_type": "code",
   "execution_count": 16,
   "metadata": {
    "collapsed": true
   },
   "outputs": [],
   "source": [
    "#Building the neural network architecture\n",
    "\n",
    "from keras.models import Sequential\n",
    "from keras.layers import Dropout,Flatten,Dense\n",
    "from keras.layers import Convolution2D,MaxPooling2D\n",
    "\n",
    "\n",
    "model = Sequential()\n",
    "\n",
    "model.add(Convolution2D(filters=32,kernel_size=(3,3),padding='same',\n",
    "                       input_shape=(img_rows,img_cols,1),activation='relu'))\n",
    "model.add(Convolution2D(filters=32,kernel_size=(3,3),activation='relu'))\n",
    "model.add(MaxPooling2D(pool_size=(3,3)))\n",
    "model.add(Dropout(0.25))\n",
    "\n",
    "model.add(Convolution2D(filters=64,kernel_size=(3,3),padding='same',activation='relu'))\n",
    "model.add(Convolution2D(filters=64,kernel_size=(3,3),activation='relu'))\n",
    "model.add(MaxPooling2D(pool_size=(3,3)))\n",
    "model.add(Dropout(0.25))\n",
    "\n",
    "model.add(Flatten())\n",
    "model.add(Dense(512,activation='relu'))\n",
    "model.add(Dropout(0.5))\n",
    "model.add(Dense(nb_classes,activation='softmax'))"
   ]
  },
  {
   "cell_type": "code",
   "execution_count": 17,
   "metadata": {
    "collapsed": true
   },
   "outputs": [],
   "source": [
    "#Configuring the model\n",
    "\n",
    "model.compile(loss='categorical_crossentropy',optimizer='adam',metrics=['accuracy'])"
   ]
  },
  {
   "cell_type": "code",
   "execution_count": 18,
   "metadata": {},
   "outputs": [
    {
     "name": "stdout",
     "output_type": "stream",
     "text": [
      "Train on 14000 samples, validate on 6000 samples\n",
      "Epoch 1/25\n",
      "14000/14000 [==============================] - 83s 6ms/step - loss: 0.9859 - acc: 0.6835 - val_loss: 0.5241 - val_acc: 0.8433\n",
      "Epoch 2/25\n",
      "14000/14000 [==============================] - 73s 5ms/step - loss: 0.5785 - acc: 0.8287 - val_loss: 0.4561 - val_acc: 0.8630\n",
      "Epoch 3/25\n",
      "14000/14000 [==============================] - 521s 37ms/step - loss: 0.5082 - acc: 0.8471 - val_loss: 0.4366 - val_acc: 0.8690\n",
      "Epoch 4/25\n",
      "14000/14000 [==============================] - 64s 5ms/step - loss: 0.4700 - acc: 0.8549 - val_loss: 0.3946 - val_acc: 0.8823\n",
      "Epoch 5/25\n",
      "14000/14000 [==============================] - 67s 5ms/step - loss: 0.4332 - acc: 0.8671 - val_loss: 0.3933 - val_acc: 0.8828\n",
      "Epoch 6/25\n",
      "14000/14000 [==============================] - 66s 5ms/step - loss: 0.4114 - acc: 0.8759 - val_loss: 0.3853 - val_acc: 0.8855\n",
      "Epoch 7/25\n",
      "14000/14000 [==============================] - 66s 5ms/step - loss: 0.3921 - acc: 0.8763 - val_loss: 0.3659 - val_acc: 0.8887\n",
      "Epoch 8/25\n",
      "14000/14000 [==============================] - 66s 5ms/step - loss: 0.3699 - acc: 0.8872 - val_loss: 0.3637 - val_acc: 0.8932\n",
      "Epoch 9/25\n",
      "14000/14000 [==============================] - 66s 5ms/step - loss: 0.3551 - acc: 0.8871 - val_loss: 0.3559 - val_acc: 0.8955\n",
      "Epoch 10/25\n",
      "14000/14000 [==============================] - 66s 5ms/step - loss: 0.3439 - acc: 0.8904 - val_loss: 0.3506 - val_acc: 0.8955\n",
      "Epoch 11/25\n",
      "14000/14000 [==============================] - 66s 5ms/step - loss: 0.3266 - acc: 0.8959 - val_loss: 0.3518 - val_acc: 0.8963\n",
      "Epoch 12/25\n",
      "14000/14000 [==============================] - 67s 5ms/step - loss: 0.3096 - acc: 0.9029 - val_loss: 0.3672 - val_acc: 0.8928\n",
      "Epoch 13/25\n",
      "14000/14000 [==============================] - 67s 5ms/step - loss: 0.3039 - acc: 0.9019 - val_loss: 0.3411 - val_acc: 0.9017\n",
      "Epoch 14/25\n",
      "14000/14000 [==============================] - 65s 5ms/step - loss: 0.2915 - acc: 0.9068 - val_loss: 0.3492 - val_acc: 0.8983\n",
      "Epoch 15/25\n",
      "14000/14000 [==============================] - 69s 5ms/step - loss: 0.2859 - acc: 0.9071 - val_loss: 0.3500 - val_acc: 0.9002\n",
      "Epoch 16/25\n",
      "14000/14000 [==============================] - 67s 5ms/step - loss: 0.2731 - acc: 0.9120 - val_loss: 0.3571 - val_acc: 0.8990\n",
      "Epoch 17/25\n",
      "14000/14000 [==============================] - 68s 5ms/step - loss: 0.2664 - acc: 0.9114 - val_loss: 0.3558 - val_acc: 0.8977\n",
      "Epoch 18/25\n",
      "14000/14000 [==============================] - 66s 5ms/step - loss: 0.2551 - acc: 0.9154 - val_loss: 0.3516 - val_acc: 0.8982\n",
      "Epoch 19/25\n",
      "14000/14000 [==============================] - 66s 5ms/step - loss: 0.2502 - acc: 0.9207 - val_loss: 0.3732 - val_acc: 0.8968\n",
      "Epoch 20/25\n",
      "14000/14000 [==============================] - 66s 5ms/step - loss: 0.2481 - acc: 0.9191 - val_loss: 0.3618 - val_acc: 0.8985\n",
      "Epoch 21/25\n",
      "14000/14000 [==============================] - 68s 5ms/step - loss: 0.2442 - acc: 0.9199 - val_loss: 0.3583 - val_acc: 0.8995\n",
      "Epoch 22/25\n",
      "14000/14000 [==============================] - 70s 5ms/step - loss: 0.2326 - acc: 0.9245 - val_loss: 0.3567 - val_acc: 0.9002\n",
      "Epoch 23/25\n",
      "14000/14000 [==============================] - 65s 5ms/step - loss: 0.2283 - acc: 0.9262 - val_loss: 0.3768 - val_acc: 0.8988\n",
      "Epoch 24/25\n",
      "14000/14000 [==============================] - 68s 5ms/step - loss: 0.2228 - acc: 0.9238 - val_loss: 0.3632 - val_acc: 0.9010\n",
      "Epoch 25/25\n",
      "14000/14000 [==============================] - 74s 5ms/step - loss: 0.2152 - acc: 0.9295 - val_loss: 0.3781 - val_acc: 0.8997\n"
     ]
    }
   ],
   "source": [
    "#Fitting the model\n",
    "\n",
    "model_train = model.fit(train_data,target_train,batch_size=32,\n",
    "             epochs=25,validation_split=0.3,\n",
    "             shuffle=True)"
   ]
  },
  {
   "cell_type": "code",
   "execution_count": 19,
   "metadata": {},
   "outputs": [
    {
     "name": "stdout",
     "output_type": "stream",
     "text": [
      "_________________________________________________________________\n",
      "Layer (type)                 Output Shape              Param #   \n",
      "=================================================================\n",
      "conv2d_1 (Conv2D)            (None, 28, 28, 32)        320       \n",
      "_________________________________________________________________\n",
      "conv2d_2 (Conv2D)            (None, 26, 26, 32)        9248      \n",
      "_________________________________________________________________\n",
      "max_pooling2d_1 (MaxPooling2 (None, 8, 8, 32)          0         \n",
      "_________________________________________________________________\n",
      "dropout_1 (Dropout)          (None, 8, 8, 32)          0         \n",
      "_________________________________________________________________\n",
      "conv2d_3 (Conv2D)            (None, 8, 8, 64)          18496     \n",
      "_________________________________________________________________\n",
      "conv2d_4 (Conv2D)            (None, 6, 6, 64)          36928     \n",
      "_________________________________________________________________\n",
      "max_pooling2d_2 (MaxPooling2 (None, 2, 2, 64)          0         \n",
      "_________________________________________________________________\n",
      "dropout_2 (Dropout)          (None, 2, 2, 64)          0         \n",
      "_________________________________________________________________\n",
      "flatten_1 (Flatten)          (None, 256)               0         \n",
      "_________________________________________________________________\n",
      "dense_1 (Dense)              (None, 512)               131584    \n",
      "_________________________________________________________________\n",
      "dropout_3 (Dropout)          (None, 512)               0         \n",
      "_________________________________________________________________\n",
      "dense_2 (Dense)              (None, 10)                5130      \n",
      "=================================================================\n",
      "Total params: 201,706\n",
      "Trainable params: 201,706\n",
      "Non-trainable params: 0\n",
      "_________________________________________________________________\n",
      "None\n"
     ]
    }
   ],
   "source": [
    "#Printing the summary of model\n",
    "\n",
    "print(model.summary())"
   ]
  },
  {
   "cell_type": "code",
   "execution_count": 20,
   "metadata": {
    "collapsed": true
   },
   "outputs": [],
   "source": [
    "#Saving the model\n",
    "model.save('cute_model.h5py')"
   ]
  },
  {
   "cell_type": "markdown",
   "metadata": {},
   "source": [
    "## Model Evaluation"
   ]
  },
  {
   "cell_type": "code",
   "execution_count": 21,
   "metadata": {},
   "outputs": [
    {
     "name": "stdout",
     "output_type": "stream",
     "text": [
      "2000/2000 [==============================] - 4s 2ms/step\n"
     ]
    }
   ],
   "source": [
    "#Model evaluation on the test set\n",
    "test_eval = model.evaluate(test_data, target_test, verbose=1)"
   ]
  },
  {
   "cell_type": "code",
   "execution_count": 22,
   "metadata": {},
   "outputs": [
    {
     "name": "stdout",
     "output_type": "stream",
     "text": [
      "Test loss: 0.2819580278284848\n",
      "Test accuracy: 0.9245\n"
     ]
    }
   ],
   "source": [
    "print('Test loss:', test_eval[0])\n",
    "print('Test accuracy:', test_eval[1])"
   ]
  },
  {
   "cell_type": "code",
   "execution_count": 23,
   "metadata": {},
   "outputs": [
    {
     "data": {
      "image/png": "[encoded data removed]",
      "text/plain": [
       "<matplotlib.figure.Figure at 0x210eff7ba20>"
      ]
     },
     "metadata": {},
     "output_type": "display_data"
    },
    {
     "data": {
      "image/png": "[encoded data removed]",
      "text/plain": [
       "<matplotlib.figure.Figure at 0x210f0f63710>"
      ]
     },
     "metadata": {},
     "output_type": "display_data"
    }
   ],
   "source": [
    "#Plotting accuracy and loss plots between training and validation sets.\n",
    "\n",
    "accuracy = model_train.history['acc']\n",
    "val_accuracy = model_train.history['val_acc']\n",
    "loss = model_train.history['loss']\n",
    "val_loss = model_train.history['val_loss']\n",
    "epochs = range(len(accuracy))\n",
    "plt.plot(epochs, accuracy, 'bo', label='Training accuracy')\n",
    "plt.plot(epochs, val_accuracy, 'b', label='Validation accuracy')\n",
    "plt.title('Training and validation accuracy')\n",
    "plt.legend()\n",
    "plt.figure()\n",
    "plt.plot(epochs, loss, 'bo', label='Training loss')\n",
    "plt.plot(epochs, val_loss, 'b', label='Validation loss')\n",
    "plt.title('Training and validation loss')\n",
    "plt.legend()\n",
    "plt.show()"
   ]
  },
  {
   "cell_type": "code",
   "execution_count": 24,
   "metadata": {
    "collapsed": true
   },
   "outputs": [],
   "source": [
    "from keras.models import load_model\n",
    "model_final = load_model('cute_model.h5py')"
   ]
  },
  {
   "cell_type": "code",
   "execution_count": 25,
   "metadata": {},
   "outputs": [
    {
     "name": "stdout",
     "output_type": "stream",
     "text": [
      "[[7.8593744e-03 3.5160724e-02 1.3606827e-01 ... 3.8468618e-02\n",
      "  6.6492510e-01 1.6470384e-03]\n",
      " [9.9999976e-01 3.9474761e-09 8.5554025e-10 ... 5.3411591e-09\n",
      "  1.1308652e-09 5.1909255e-10]\n",
      " [2.3272948e-08 2.8369143e-06 1.3051946e-09 ... 1.6433823e-08\n",
      "  1.5363640e-06 1.1462466e-08]\n",
      " ...\n",
      " [1.5268329e-08 1.7142103e-08 9.9993610e-01 ... 3.5504721e-07\n",
      "  2.1294066e-07 4.9778395e-09]\n",
      " [8.2553271e-07 9.9995947e-01 3.5011087e-08 ... 1.4834731e-07\n",
      "  1.9209207e-08 1.1861714e-10]\n",
      " [3.5094474e-06 3.2266218e-02 8.8321539e-03 ... 3.8314358e-04\n",
      "  1.3636496e-03 1.1245953e-05]]\n"
     ]
    }
   ],
   "source": [
    "#Predicting classes for test data\n",
    "predictions= model_final.predict(test_data)\n",
    "print(predictions)"
   ]
  },
  {
   "cell_type": "code",
   "execution_count": 26,
   "metadata": {
    "collapsed": true
   },
   "outputs": [],
   "source": [
    "predicted_classes = np.round(predictions,1)"
   ]
  },
  {
   "cell_type": "code",
   "execution_count": 27,
   "metadata": {
    "collapsed": true
   },
   "outputs": [],
   "source": [
    "#Importing predictions to a file\n",
    "\n",
    "import pandas as pd\n",
    "I = pd.Index(range(2000),name=\"row_id\")\n",
    "C = pd.Index((\"0\",\"1\",\"2\",\"3\",\"4\",\"5\",\"6\",\"7\",\"8\",\"9\"), name=\"col_id\")\n",
    "df = pd.DataFrame(data=predicted_classes,\n",
    "                  index=I,\n",
    "                  columns=C)\n",
    "df.reset_index()\n",
    "df.to_csv(\"Submissions.csv\", index=False)"
   ]
  },
  {
   "cell_type": "code",
   "execution_count": null,
   "metadata": {
    "collapsed": true
   },
   "outputs": [],
   "source": []
  }
 ],
 "metadata": {
  "kernelspec": {
   "display_name": "Python 3",
   "language": "python",
   "name": "python3"
  },
  "language_info": {
   "codemirror_mode": {
    "name": "ipython",
    "version": 3
   },
   "file_extension": ".py",
   "mimetype": "text/x-python",
   "name": "python",
   "nbconvert_exporter": "python",
   "pygments_lexer": "ipython3",
   "version": "3.6.1"
  }
 },
 "nbformat": 4,
 "nbformat_minor": 2
}
